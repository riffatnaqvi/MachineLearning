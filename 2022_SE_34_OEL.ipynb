{
  "nbformat": 4,
  "nbformat_minor": 0,
  "metadata": {
    "colab": {
      "provenance": []
    },
    "kernelspec": {
      "name": "python3",
      "display_name": "Python 3"
    },
    "language_info": {
      "name": "python"
    }
  },
  "cells": [
    {
      "cell_type": "code",
      "source": [
        "import pandas as pd\n",
        "import numpy as np\n",
        "import matplotlib.pyplot as plt\n",
        "import seaborn as sns\n",
        "from sklearn.linear_model import LogisticRegression\n",
        "from sklearn.neighbors import KNeighborsClassifier\n",
        "from sklearn.cluster import KMeans\n",
        "from sklearn.model_selection import GridSearchCV\n",
        "from sklearn.metrics import accuracy_score, classification_report, confusion_matrix\n",
        "import warnings\n",
        "from scipy.stats import mode\n",
        "\n",
        "# Suppress warnings and set random seed\n",
        "warnings.filterwarnings('ignore')\n",
        "np.random.seed(42)\n",
        "\n",
        "# Load datasets\n",
        "train_df = pd.read_csv('/content/mnist_train.csv')\n",
        "test_df = pd.read_csv('/content/mnist_test.csv')\n",
        "\n",
        "# Separate features and labels\n",
        "X_train = train_df.drop('label', axis=1)\n",
        "y_train = train_df['label']\n",
        "X_test = test_df.drop('label', axis=1)\n",
        "y_test = test_df['label']"
      ],
      "metadata": {
        "id": "PLG_Tk82amJT"
      },
      "execution_count": 11,
      "outputs": []
    },
    {
      "cell_type": "code",
      "source": [
        "knn_params = {'n_neighbors': [3, 7, 11], 'weights': ['distance']}\n",
        "\n",
        "grid_search_knn = GridSearchCV(KNeighborsClassifier(), knn_params, cv=2, n_jobs=-1)\n",
        "\n",
        "X_train_sample = X_train.sample(n=6000, random_state=42)\n",
        "y_train_sample = y_train.loc[X_train_sample.index]\n",
        "\n",
        "# Train model\n",
        "grid_search_knn.fit(X_train_sample, y_train_sample)\n",
        "\n",
        "best_n_neighbors = grid_search_knn.best_params_['n_neighbors']\n",
        "best_weight = grid_search_knn.best_params_['weights']\n",
        "best_score = grid_search_knn.best_score_\n",
        "\n",
        "# Print results\n",
        "print(f\"Best KNN Parameters: n_neighbors={best_n_neighbors}, weights='{best_weight}'\")\n",
        "print(f\" Best Cross-Validation Accuracy: {best_score:.3f}\")"
      ],
      "metadata": {
        "colab": {
          "base_uri": "https://localhost:8080/"
        },
        "id": "mHHrcbQMi8ff",
        "outputId": "fbe8e6b6-e1c1-43a6-d339-1fe3ee014f94"
      },
      "execution_count": 17,
      "outputs": [
        {
          "output_type": "stream",
          "name": "stdout",
          "text": [
            "Best KNN Parameters: n_neighbors=3, weights='distance'\n",
            " Best Cross-Validation Accuracy: 0.925\n"
          ]
        }
      ]
    },
    {
      "cell_type": "code",
      "source": [
        "log_params = {'C': [0.1, 1, 10]}\n",
        "\n",
        "# Reduce cross-validation folds (cv=2)\n",
        "grid_search_log = GridSearchCV(LogisticRegression(max_iter=200), log_params, cv=2, n_jobs=-1)\n",
        "\n",
        "X_train_sample = X_train.sample(n=6000, random_state=42)\n",
        "y_train_sample = y_train.loc[X_train_sample.index]\n",
        "\n",
        "# Train the model\n",
        "grid_search_log.fit(X_train_sample, y_train_sample)\n",
        "\n",
        "best_C = grid_search_log.best_params_['C']\n",
        "best_score_log = grid_search_log.best_score_\n",
        "\n",
        "# Print results\n",
        "print(f\"Best Logistic Regression Parameter: C={best_C}\")\n",
        "print(f\"Best Cross-Validation Accuracy: {best_score_log:.3f}\")"
      ],
      "metadata": {
        "colab": {
          "base_uri": "https://localhost:8080/"
        },
        "id": "BtctmHiLfhl1",
        "outputId": "29fa77c0-3ee2-4dd7-e0f6-5d81cb84d850"
      },
      "execution_count": 18,
      "outputs": [
        {
          "output_type": "stream",
          "name": "stdout",
          "text": [
            "Best Logistic Regression Parameter: C=0.1\n",
            "Best Cross-Validation Accuracy: 0.837\n"
          ]
        }
      ]
    },
    {
      "cell_type": "code",
      "source": [
        "kmeans_params = {\n",
        "    'n_init': [5, 10],\n",
        "    'max_iter': [100, 200],\n",
        "    'algorithm': ['lloyd', 'elkan']\n",
        "}\n",
        "\n",
        "# Custom scoring function (Silhouette Score)\n",
        "def silhouette_scorer(estimator, X):\n",
        "    labels = estimator.fit_predict(X)\n",
        "    return silhouette_score(X, labels)\n",
        "\n",
        "# Use GridSearchCV with the new scoring metric\n",
        "grid_search_kmeans = GridSearchCV(KMeans(n_clusters=10, random_state=42),\n",
        "                                  param_grid=kmeans_params, cv=2,\n",
        "                                  n_jobs=-1, scoring=silhouette_scorer)\n",
        "\n",
        "# Use a smaller dataset sample\n",
        "X_train_sample = X_train.sample(n=2000, random_state=42)\n",
        "\n",
        "# Train the model\n",
        "grid_search_kmeans.fit(X_train_sample)\n",
        "\n",
        "# Extract best parameters\n",
        "best_n_init = grid_search_kmeans.best_params_['n_init']\n",
        "best_max_iter = grid_search_kmeans.best_params_['max_iter']\n",
        "best_algorithm = grid_search_kmeans.best_params_['algorithm']\n",
        "best_score_kmeans = grid_search_kmeans.best_score_"
      ],
      "metadata": {
        "id": "EDebAZyCfzJM"
      },
      "execution_count": 23,
      "outputs": []
    },
    {
      "cell_type": "code",
      "source": [
        "# Define and train models, then evaluate\n",
        "models = {\n",
        "    'Logistic Regression': LogisticRegression(max_iter=100),\n",
        "    'KNN': KNeighborsClassifier(n_neighbors=5),\n",
        "    'K-Means Clustering': KMeans(n_clusters=10, random_state=42)\n",
        "}"
      ],
      "metadata": {
        "id": "RwRkVEW_gBok"
      },
      "execution_count": 25,
      "outputs": []
    },
    {
      "cell_type": "code",
      "source": [
        "# Initialize results dictionary\n",
        "results = {}\n",
        "\n",
        "for name, model in models.items():\n",
        "    model.fit(X_train, y_train)\n",
        "    y_pred = model.predict(X_test)\n",
        "\n",
        "    # If K-Means, adjust cluster labels to match actual labels\n",
        "    if name == \"K-Means Clustering\":\n",
        "        from scipy.stats import mode\n",
        "        labels = np.zeros_like(y_pred)\n",
        "        for i in range(10):  # There are 10 clusters\n",
        "            mask = (y_pred == i)\n",
        "            labels[mask] = mode(y_test[mask])[0]\n",
        "        y_pred = labels\n",
        "\n",
        "    accuracy = accuracy_score(y_test, y_pred)  # Calculate accuracy\n",
        "    results[name] = accuracy  # Store in results dictionary\n",
        "\n",
        "    print(f'\\n{name} Accuracy: {accuracy:.3f}')\n",
        "    print(\"Classification Report:\")\n",
        "    print(classification_report(y_test, y_pred))\n",
        "    print(\"Confusion Matrix:\")\n",
        "    print(confusion_matrix(y_test, y_pred))"
      ],
      "metadata": {
        "colab": {
          "base_uri": "https://localhost:8080/"
        },
        "id": "nK3fx3VVkj_0",
        "outputId": "97a3ce2c-3008-493e-ddac-c54f3ccc7fc2"
      },
      "execution_count": 26,
      "outputs": [
        {
          "output_type": "stream",
          "name": "stdout",
          "text": [
            "\n",
            "Logistic Regression Accuracy: 0.925\n",
            "Classification Report:\n",
            "              precision    recall  f1-score   support\n",
            "\n",
            "           0       0.95      0.98      0.97       980\n",
            "           1       0.97      0.98      0.97      1135\n",
            "           2       0.93      0.90      0.91      1032\n",
            "           3       0.90      0.91      0.91      1010\n",
            "           4       0.93      0.93      0.93       982\n",
            "           5       0.90      0.87      0.89       892\n",
            "           6       0.94      0.95      0.95       958\n",
            "           7       0.93      0.93      0.93      1028\n",
            "           8       0.87      0.89      0.88       974\n",
            "           9       0.91      0.91      0.91      1009\n",
            "\n",
            "    accuracy                           0.93     10000\n",
            "   macro avg       0.92      0.92      0.92     10000\n",
            "weighted avg       0.93      0.93      0.93     10000\n",
            "\n",
            "Confusion Matrix:\n",
            "[[ 963    0    0    3    1    3    4    4    2    0]\n",
            " [   0 1112    4    2    0    1    3    2   11    0]\n",
            " [   3   10  926   15    6    4   15    8   42    3]\n",
            " [   4    1   21  916    1   26    3    9   22    7]\n",
            " [   1    1    7    3  910    0    9    7   10   34]\n",
            " [  11    2    1   33   11  776   11    6   35    6]\n",
            " [   9    3    7    3    7   16  910    2    1    0]\n",
            " [   1    6   24    5    7    1    0  951    3   30]\n",
            " [   8    7    6   23    6   26   10   10  869    9]\n",
            " [   9    7    0   11   25    6    0   22    7  922]]\n",
            "\n",
            "KNN Accuracy: 0.969\n",
            "Classification Report:\n",
            "              precision    recall  f1-score   support\n",
            "\n",
            "           0       0.96      0.99      0.98       980\n",
            "           1       0.95      1.00      0.98      1135\n",
            "           2       0.98      0.96      0.97      1032\n",
            "           3       0.96      0.97      0.97      1010\n",
            "           4       0.98      0.96      0.97       982\n",
            "           5       0.97      0.97      0.97       892\n",
            "           6       0.98      0.99      0.98       958\n",
            "           7       0.96      0.96      0.96      1028\n",
            "           8       0.99      0.94      0.96       974\n",
            "           9       0.96      0.95      0.95      1009\n",
            "\n",
            "    accuracy                           0.97     10000\n",
            "   macro avg       0.97      0.97      0.97     10000\n",
            "weighted avg       0.97      0.97      0.97     10000\n",
            "\n",
            "Confusion Matrix:\n",
            "[[ 974    1    1    0    0    1    2    1    0    0]\n",
            " [   0 1133    2    0    0    0    0    0    0    0]\n",
            " [  11    8  991    2    1    0    1   15    3    0]\n",
            " [   0    3    3  976    1   13    1    6    3    4]\n",
            " [   3    7    0    0  944    0    4    2    1   21]\n",
            " [   5    0    0   12    2  862    4    1    2    4]\n",
            " [   5    3    0    0    3    2  945    0    0    0]\n",
            " [   0   22    4    0    3    0    0  988    0   11]\n",
            " [   8    3    5   13    6   12    5    5  913    4]\n",
            " [   5    7    3    9    7    3    1   10    2  962]]\n",
            "\n",
            "K-Means Clustering Accuracy: 0.585\n",
            "Classification Report:\n",
            "              precision    recall  f1-score   support\n",
            "\n",
            "           0       0.94      0.80      0.86       980\n",
            "           1       0.66      0.99      0.79      1135\n",
            "           2       0.90      0.69      0.78      1032\n",
            "           3       0.50      0.68      0.57      1010\n",
            "           4       0.41      0.37      0.39       982\n",
            "           5       0.00      0.00      0.00       892\n",
            "           6       0.85      0.77      0.81       958\n",
            "           7       0.41      0.41      0.41      1028\n",
            "           8       0.45      0.54      0.49       974\n",
            "           9       0.36      0.48      0.42      1009\n",
            "\n",
            "    accuracy                           0.58     10000\n",
            "   macro avg       0.55      0.57      0.55     10000\n",
            "weighted avg       0.55      0.58      0.56     10000\n",
            "\n",
            "Confusion Matrix:\n",
            "[[ 781    5    4   57   14    0   41    2   74    2]\n",
            " [   0 1129    0    3    0    0    2    0    1    0]\n",
            " [  13  136  709   76   34    0   20   11   24    9]\n",
            " [   4   63   38  685    7    0    9    8  178   18]\n",
            " [   0   42    3    0  366    0   23  249    2  297]\n",
            " [   6  111    4  297   28    0   23   57  316   50]\n",
            " [  16   43    8    1  125    0  737    0   26    2]\n",
            " [   1   84   11    0   76    0    1  425    1  429]\n",
            " [   7   80    6  250   18    0   10   34  525   44]\n",
            " [   7   23    2    7  225    0    2  241   13  489]]\n"
          ]
        }
      ]
    },
    {
      "cell_type": "code",
      "source": [
        "# Plot model accuracy comparison\n",
        "plt.figure(figsize=(10, 5))\n",
        "plt.bar(results.keys(), results.values(), color=['blue', 'green', 'orange'])\n",
        "plt.title('Model Accuracy Comparison')\n",
        "plt.ylabel('Accuracy')\n",
        "plt.ylim(0, 1)\n",
        "plt.xticks(rotation=45)\n",
        "best_model = max(results, key=results.get)\n",
        "best_accuracy = results[best_model]\n",
        "print(f\"\\nThe best-performing model is {best_model} with an accuracy of {best_accuracy:.3f}\")\n",
        "plt.show()"
      ],
      "metadata": {
        "colab": {
          "base_uri": "https://localhost:8080/",
          "height": 594
        },
        "id": "0Llb3Jpuks9j",
        "outputId": "84738001-905a-4b40-d58e-243c4e88dcf9"
      },
      "execution_count": 27,
      "outputs": [
        {
          "output_type": "stream",
          "name": "stdout",
          "text": [
            "\n",
            "The best-performing model is KNN with an accuracy of 0.969\n"
          ]
        },
        {
          "output_type": "display_data",
          "data": {
            "text/plain": [
              "<Figure size 1000x500 with 1 Axes>"
            ],
            "image/png": "[encoded data removed]"
          },
          "metadata": {}
        }
      ]
    },
    {
      "cell_type": "code",
      "source": [],
      "metadata": {
        "id": "p0g-M1IRlKOY"
      },
      "execution_count": null,
      "outputs": []
    }
  ]
}