{
  "nbformat": 4,
  "nbformat_minor": 0,
  "metadata": {
    "colab": {
      "provenance": []
    },
    "kernelspec": {
      "name": "python3",
      "display_name": "Python 3"
    },
    "language_info": {
      "name": "python"
    }
  },
  "cells": [
    {
      "cell_type": "code",
      "execution_count": null,
      "metadata": {
        "id": "kGSNhu9t-FRC"
      },
      "outputs": [],
      "source": [
        "import numpy as np"
      ]
    },
    {
      "cell_type": "code",
      "source": [
        "def sigmoid(x):\n",
        "    return 1 / (1 + np.exp(-x))"
      ],
      "metadata": {
        "id": "812Jou8v-WNF"
      },
      "execution_count": null,
      "outputs": []
    },
    {
      "cell_type": "code",
      "source": [
        "# Train the perceptron\n",
        "def train_perceptron(X, y, learning_rate=0.1, epochs=10):\n",
        "    num_features = X.shape[1]  # Number of features (now 3)\n",
        "    weights = np.zeros(num_features + 1)  # Include bias\n",
        "\n",
        "    for epoch in range(epochs):\n",
        "        total_error = 0\n",
        "        for i in range(len(X)):\n",
        "            x_with_bias = np.insert(X[i], 0, 1)  # Add bias term\n",
        "            weighted_sum = np.dot(weights, x_with_bias)\n",
        "            y_pred = step_function(weighted_sum)\n",
        "            error = y[i] - y_pred\n",
        "            total_error += abs(error)\n",
        "            weights += learning_rate * error * x_with_bias\n",
        "\n",
        "        print(f\"Epoch {epoch+1}: Weights = {weights}, Error = {total_error}\")\n",
        "        if total_error == 0:\n",
        "            break\n",
        "\n",
        "    return weights"
      ],
      "metadata": {
        "id": "Lz_fUzXz-bhD"
      },
      "execution_count": null,
      "outputs": []
    },
    {
      "cell_type": "code",
      "source": [
        "# Predict outputs\n",
        "def predict(X, weights):\n",
        "    predictions = []\n",
        "    for i in range(len(X)):\n",
        "        x_with_bias = np.insert(X[i], 0, 1)\n",
        "        weighted_sum = np.dot(weights, x_with_bias)\n",
        "        y_pred = sigmoid(weighted_sum)\n",
        "        predictions.append(y_pred)\n",
        "    return predictions"
      ],
      "metadata": {
        "id": "BxADm6AG-e4Y"
      },
      "execution_count": null,
      "outputs": []
    },
    {
      "cell_type": "code",
      "source": [
        "X = np.array([[0, 0], [0, 1], [1, 0], [1, 1]])  # Inputs\n",
        "y = np.array([[0], [1], [1], [1]])  # Expected Output"
      ],
      "metadata": {
        "id": "uYSQeH6k_SH5"
      },
      "execution_count": null,
      "outputs": []
    },
    {
      "cell_type": "code",
      "source": [
        "# Train the perceptron\n",
        "weights = train_perceptron(X, y)\n",
        "\n",
        "# Test predictions\n",
        "predictions = predict(X, weights)\n",
        "print(\"\\nResults:\")\n",
        "for i in range(len(X)):\n",
        "    print(f\"Input: {X[i]}, Predicted: {predictions[i]}, Actual: {y[i]}\")"
      ],
      "metadata": {
        "colab": {
          "base_uri": "https://localhost:8080/"
        },
        "id": "8MbqiejM-9uo",
        "outputId": "5157ba88-0430-44a5-e842-fcc4bf7fc2e8"
      },
      "execution_count": null,
      "outputs": [
        {
          "output_type": "stream",
          "name": "stdout",
          "text": [
            "Epoch 1: Weights = [0.09741493 0.09616519 0.09744618], Error = [1.97414934]\n",
            "Epoch 2: Weights = [0.17635139 0.18108979 0.18349218], Error = [1.83803356]\n",
            "Epoch 3: Weights = [0.24002751 0.25674063 0.26011747], Error = [1.72470904]\n",
            "Epoch 4: Weights = [0.29118607 0.32479652 0.32901981], Error = [1.63102645]\n",
            "Epoch 5: Weights = [0.33207171 0.38662493 0.39158617], Error = [1.55342942]\n",
            "Epoch 6: Weights = [0.36448972 0.44331722 0.44892551], Error = [1.48870678]\n",
            "Epoch 7: Weights = [0.38988516 0.49573907 0.50191847], Error = [1.43420811]\n",
            "Epoch 8: Weights = [0.40941731 0.54457825 0.55126518], Error = [1.38783157]\n",
            "Epoch 9: Weights = [0.42402148 0.59038426 0.59752527], Error = [1.34793798]\n",
            "Epoch 10: Weights = [0.43445796 0.63359949 0.64114935], Error = [1.31325509]\n",
            "\n",
            "Results:\n",
            "Input: [0 0], Predicted: 0.6069376830814078, Actual: [0]\n",
            "Input: [0 1], Predicted: 0.745661807239301, Actual: [1]\n",
            "Input: [1 0], Predicted: 0.7442273209451833, Actual: [1]\n",
            "Input: [1 1], Predicted: 0.846733374373677, Actual: [1]\n"
          ]
        }
      ]
    }
  ]
}